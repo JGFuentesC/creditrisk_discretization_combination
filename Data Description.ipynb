{
 "cells": [
  {
   "cell_type": "code",
   "execution_count": 2,
   "metadata": {},
   "outputs": [],
   "source": [
    "import pandas as pd\n",
    "from glob import glob "
   ]
  },
  {
   "cell_type": "code",
   "execution_count": 4,
   "metadata": {},
   "outputs": [],
   "source": [
    "ruta = './data/clean/*.pickle'"
   ]
  },
  {
   "cell_type": "code",
   "execution_count": 7,
   "metadata": {},
   "outputs": [],
   "source": [
    "datasets = sorted(glob(ruta))"
   ]
  },
  {
   "cell_type": "code",
   "execution_count": 28,
   "metadata": {},
   "outputs": [],
   "source": [
    "def get_metadata(dataset_name):\n",
    "    df = pd.read_pickle(dataset_name)\n",
    "    return pd.Series({\n",
    "    'Dataset': dataset_name.split('/')[-1].split('.')[0],\n",
    "    'No. of observations': df.shape[0] ,\n",
    "    'No. of predictors': len([c for c in df.columns if c[0]=='A']) ,\n",
    "    'No. of positive cases': len(df.loc[df['y']==1]),\n",
    "    'No. of negative cases': len(df.loc[df['y']==0])\n",
    "    }).to_frame().T"
   ]
  },
  {
   "cell_type": "code",
   "execution_count": 31,
   "metadata": {},
   "outputs": [],
   "source": [
    "md = pd.concat(map(get_metadata,datasets),ignore_index=True)\n",
    "md['Dataset'] = md['Dataset'].map(lambda x:x.replace('give_me_some_credit','give-me-some-credit'))\n",
    "md['Dataset'] = md['Dataset'].map(lambda x:x.replace('lendinc_club','lending-club'))"
   ]
  },
  {
   "cell_type": "code",
   "execution_count": 35,
   "metadata": {},
   "outputs": [
    {
     "name": "stdout",
     "output_type": "stream",
     "text": [
      "\\begin{tabular}{lllll}\n",
      "\\toprule\n",
      "            Dataset & No. of observations & No. of predictors & No. of positive cases & No. of negative cases \\\\\n",
      "\\midrule\n",
      "         australian &                 690 &                 6 &                   307 &                   383 \\\\\n",
      "            farmers &                5000 &                12 &                  2164 &                  2836 \\\\\n",
      "             german &                 959 &                 7 &                   275 &                   684 \\\\\n",
      "give-me-some-credit &                5000 &                10 &                   327 &                  4673 \\\\\n",
      "               hmeq &                5960 &                10 &                  1189 &                  4771 \\\\\n",
      "              japan &                 690 &                 4 &                   383 &                   307 \\\\\n",
      "       lending-club &                5000 &                77 &                   693 &                  4307 \\\\\n",
      "             mexico &                5000 &                14 &                   579 &                  4421 \\\\\n",
      "           mortgage &                5000 &                15 &                   112 &                  4888 \\\\\n",
      "             polish &                5000 &                64 &                   239 &                  4761 \\\\\n",
      "             taiwan &                5000 &                 6 &                   534 &                  4466 \\\\\n",
      "\\bottomrule\n",
      "\\end{tabular}\n",
      "\n"
     ]
    },
    {
     "name": "stderr",
     "output_type": "stream",
     "text": [
      "/tmp/ipykernel_1052640/1810107055.py:1: FutureWarning: In future versions `DataFrame.to_latex` is expected to utilise the base implementation of `Styler.to_latex` for formatting and rendering. The arguments signature may therefore change. It is recommended instead to use `DataFrame.style.to_latex` which also contains additional functionality.\n",
      "  print(md.to_latex(index=False))\n"
     ]
    }
   ],
   "source": [
    "print(md.to_latex(index=False))"
   ]
  },
  {
   "cell_type": "code",
   "execution_count": null,
   "metadata": {},
   "outputs": [],
   "source": []
  }
 ],
 "metadata": {
  "kernelspec": {
   "display_name": "Python 3.8.10 ('ins')",
   "language": "python",
   "name": "python3"
  },
  "language_info": {
   "codemirror_mode": {
    "name": "ipython",
    "version": 3
   },
   "file_extension": ".py",
   "mimetype": "text/x-python",
   "name": "python",
   "nbconvert_exporter": "python",
   "pygments_lexer": "ipython3",
   "version": "3.8.10"
  },
  "orig_nbformat": 4,
  "vscode": {
   "interpreter": {
    "hash": "7e11c88f35c2c5fde0a38a51094f5e2fce5b626769864a25001c06b80821448c"
   }
  }
 },
 "nbformat": 4,
 "nbformat_minor": 2
}
