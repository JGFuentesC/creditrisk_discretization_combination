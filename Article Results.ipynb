{
 "cells": [
  {
   "cell_type": "markdown",
   "id": "accompanied-arbitration",
   "metadata": {},
   "source": [
    "## Dependencies"
   ]
  },
  {
   "cell_type": "code",
   "execution_count": 28,
   "id": "continent-sphere",
   "metadata": {
    "ExecuteTime": {
     "end_time": "2022-03-23T00:03:46.198854Z",
     "start_time": "2022-03-23T00:03:45.634078Z"
    }
   },
   "outputs": [],
   "source": [
    "import os\n",
    "import numpy as np\n",
    "import pandas as pd\n",
    "from datetime import datetime\n",
    "from dateutil.relativedelta import relativedelta as rd\n",
    "from scipy import stats"
   ]
  },
  {
   "cell_type": "code",
   "execution_count": 74,
   "id": "increased-natural",
   "metadata": {
    "ExecuteTime": {
     "end_time": "2022-03-22T22:38:34.275714Z",
     "start_time": "2022-03-22T22:38:33.576238Z"
    }
   },
   "outputs": [],
   "source": [
    "df = pd.read_excel('results.xlsx')\n",
    "\n",
    "df['label'] = df['label'].map(lambda x:x.replace('give_me_some_credit','give-me-some-credit'))\n",
    "df['label'] = df['label'].map(lambda x:x.replace('lendinc_club','lending-club'))\n",
    "\n",
    "df[['method','dataset','sample']] = df['label'].map(lambda x:x.split('_')).apply(pd.Series).dropna()"
   ]
  },
  {
   "cell_type": "code",
   "execution_count": 75,
   "id": "222a35f3",
   "metadata": {},
   "outputs": [],
   "source": [
    "df['method'] = df['method'].map({'uni':'EQD','qua':'EQF','kme':'KME','gau':'GMM','dcc':'DCC','dec':'DEC'})"
   ]
  },
  {
   "cell_type": "markdown",
   "id": "stone-private",
   "metadata": {},
   "source": [
    "## Overall Performance"
   ]
  },
  {
   "cell_type": "markdown",
   "id": "known-jenny",
   "metadata": {},
   "source": [
    "### AUC"
   ]
  },
  {
   "cell_type": "code",
   "execution_count": 84,
   "id": "a505dcb7",
   "metadata": {},
   "outputs": [
    {
     "data": {
      "text/html": [
       "<div>\n",
       "<style scoped>\n",
       "    .dataframe tbody tr th:only-of-type {\n",
       "        vertical-align: middle;\n",
       "    }\n",
       "\n",
       "    .dataframe tbody tr th {\n",
       "        vertical-align: top;\n",
       "    }\n",
       "\n",
       "    .dataframe thead th {\n",
       "        text-align: right;\n",
       "    }\n",
       "</style>\n",
       "<table border=\"1\" class=\"dataframe\">\n",
       "  <thead>\n",
       "    <tr style=\"text-align: right;\">\n",
       "      <th></th>\n",
       "      <th>Method</th>\n",
       "      <th>Mean</th>\n",
       "      <th>95% CI</th>\n",
       "      <th>n</th>\n",
       "    </tr>\n",
       "  </thead>\n",
       "  <tbody>\n",
       "    <tr>\n",
       "      <th>0</th>\n",
       "      <td>DCC</td>\n",
       "      <td>0.7678</td>\n",
       "      <td>[0.7587,0.777]</td>\n",
       "      <td>330</td>\n",
       "    </tr>\n",
       "    <tr>\n",
       "      <th>1</th>\n",
       "      <td>DEC</td>\n",
       "      <td>0.7666</td>\n",
       "      <td>[0.7572,0.776]</td>\n",
       "      <td>330</td>\n",
       "    </tr>\n",
       "    <tr>\n",
       "      <th>2</th>\n",
       "      <td>EQD</td>\n",
       "      <td>0.5295</td>\n",
       "      <td>[0.5237,0.5354]</td>\n",
       "      <td>330</td>\n",
       "    </tr>\n",
       "    <tr>\n",
       "      <th>3</th>\n",
       "      <td>EQF</td>\n",
       "      <td>0.7510</td>\n",
       "      <td>[0.7414,0.7607]</td>\n",
       "      <td>330</td>\n",
       "    </tr>\n",
       "    <tr>\n",
       "      <th>4</th>\n",
       "      <td>GMM</td>\n",
       "      <td>0.6307</td>\n",
       "      <td>[0.6235,0.6379]</td>\n",
       "      <td>330</td>\n",
       "    </tr>\n",
       "    <tr>\n",
       "      <th>5</th>\n",
       "      <td>KME</td>\n",
       "      <td>0.5742</td>\n",
       "      <td>[0.5657,0.5828]</td>\n",
       "      <td>330</td>\n",
       "    </tr>\n",
       "  </tbody>\n",
       "</table>\n",
       "</div>"
      ],
      "text/plain": [
       "  Method    Mean           95% CI    n\n",
       "0    DCC  0.7678   [0.7587,0.777]  330\n",
       "1    DEC  0.7666   [0.7572,0.776]  330\n",
       "2    EQD  0.5295  [0.5237,0.5354]  330\n",
       "3    EQF  0.7510  [0.7414,0.7607]  330\n",
       "4    GMM  0.6307  [0.6235,0.6379]  330\n",
       "5    KME  0.5742  [0.5657,0.5828]  330"
      ]
     },
     "metadata": {},
     "output_type": "display_data"
    },
    {
     "name": "stdout",
     "output_type": "stream",
     "text": [
      "\\begin{tabular}{lrl}\n",
      "\\toprule\n",
      "Method &   Mean &          95\\% CI \\\\\n",
      "\\midrule\n",
      "   DCC & 0.7678 &  [0.7587,0.777] \\\\\n",
      "   DEC & 0.7666 &  [0.7572,0.776] \\\\\n",
      "   EQD & 0.5295 & [0.5237,0.5354] \\\\\n",
      "   EQF & 0.7510 & [0.7414,0.7607] \\\\\n",
      "   GMM & 0.6307 & [0.6235,0.6379] \\\\\n",
      "   KME & 0.5742 & [0.5657,0.5828] \\\\\n",
      "\\bottomrule\n",
      "\\end{tabular}\n",
      "\n"
     ]
    },
    {
     "name": "stderr",
     "output_type": "stream",
     "text": [
      "/tmp/ipykernel_931667/1126205161.py:9: FutureWarning: In future versions `DataFrame.to_latex` is expected to utilise the base implementation of `Styler.to_latex` for formatting and rendering. The arguments signature may therefore change. It is recommended instead to use `DataFrame.style.to_latex` which also contains additional functionality.\n",
      "  print(auc.drop('n',axis=1).to_latex(index=False))\n"
     ]
    }
   ],
   "source": [
    "auc = []\n",
    "for m,d in [(m,d['roc']) for m,d in df.loc[df['sample']=='validate'].groupby('method')]:\n",
    "    interval = stats.norm.interval(alpha=0.95,loc=d.mean(),scale=stats.sem(d))\n",
    "    #interval = stats.t.interval(alpha=0.95,df=len(d)-1,loc=d.mean(),scale=stats.sem(d))\n",
    "    interval = '['+\",\".join(map(str,map(lambda x:round(x,4),interval)))+']'\n",
    "    auc.append((m,d.mean().round(4),interval,len(d)))\n",
    "auc = pd.DataFrame(auc,columns=['Method','Mean','95% CI','n'])\n",
    "display(auc)\n",
    "print(auc.drop('n',axis=1).to_latex(index=False))"
   ]
  },
  {
   "cell_type": "markdown",
   "id": "scenic-courage",
   "metadata": {},
   "source": [
    "### KS"
   ]
  },
  {
   "cell_type": "code",
   "execution_count": 85,
   "id": "genetic-stuart",
   "metadata": {
    "ExecuteTime": {
     "end_time": "2022-03-22T22:38:44.407211Z",
     "start_time": "2022-03-22T22:38:44.351165Z"
    }
   },
   "outputs": [
    {
     "data": {
      "text/html": [
       "<div>\n",
       "<style scoped>\n",
       "    .dataframe tbody tr th:only-of-type {\n",
       "        vertical-align: middle;\n",
       "    }\n",
       "\n",
       "    .dataframe tbody tr th {\n",
       "        vertical-align: top;\n",
       "    }\n",
       "\n",
       "    .dataframe thead th {\n",
       "        text-align: right;\n",
       "    }\n",
       "</style>\n",
       "<table border=\"1\" class=\"dataframe\">\n",
       "  <thead>\n",
       "    <tr style=\"text-align: right;\">\n",
       "      <th></th>\n",
       "      <th>Method</th>\n",
       "      <th>Mean</th>\n",
       "      <th>95% CI</th>\n",
       "    </tr>\n",
       "  </thead>\n",
       "  <tbody>\n",
       "    <tr>\n",
       "      <th>0</th>\n",
       "      <td>DCC</td>\n",
       "      <td>0.3891</td>\n",
       "      <td>[0.3702,0.4079]</td>\n",
       "    </tr>\n",
       "    <tr>\n",
       "      <th>1</th>\n",
       "      <td>DEC</td>\n",
       "      <td>0.3871</td>\n",
       "      <td>[0.3684,0.4057]</td>\n",
       "    </tr>\n",
       "    <tr>\n",
       "      <th>2</th>\n",
       "      <td>EQD</td>\n",
       "      <td>0.0381</td>\n",
       "      <td>[0.0299,0.0462]</td>\n",
       "    </tr>\n",
       "    <tr>\n",
       "      <th>3</th>\n",
       "      <td>EQF</td>\n",
       "      <td>0.3661</td>\n",
       "      <td>[0.3474,0.3847]</td>\n",
       "    </tr>\n",
       "    <tr>\n",
       "      <th>4</th>\n",
       "      <td>GMM</td>\n",
       "      <td>0.1814</td>\n",
       "      <td>[0.1692,0.1936]</td>\n",
       "    </tr>\n",
       "    <tr>\n",
       "      <th>5</th>\n",
       "      <td>KME</td>\n",
       "      <td>0.1144</td>\n",
       "      <td>[0.1009,0.128]</td>\n",
       "    </tr>\n",
       "  </tbody>\n",
       "</table>\n",
       "</div>"
      ],
      "text/plain": [
       "  Method    Mean           95% CI\n",
       "0    DCC  0.3891  [0.3702,0.4079]\n",
       "1    DEC  0.3871  [0.3684,0.4057]\n",
       "2    EQD  0.0381  [0.0299,0.0462]\n",
       "3    EQF  0.3661  [0.3474,0.3847]\n",
       "4    GMM  0.1814  [0.1692,0.1936]\n",
       "5    KME  0.1144   [0.1009,0.128]"
      ]
     },
     "metadata": {},
     "output_type": "display_data"
    },
    {
     "name": "stdout",
     "output_type": "stream",
     "text": [
      "\\begin{tabular}{lrl}\n",
      "\\toprule\n",
      "Method &   Mean &          95\\% CI \\\\\n",
      "\\midrule\n",
      "   DCC & 0.3891 & [0.3702,0.4079] \\\\\n",
      "   DEC & 0.3871 & [0.3684,0.4057] \\\\\n",
      "   EQD & 0.0381 & [0.0299,0.0462] \\\\\n",
      "   EQF & 0.3661 & [0.3474,0.3847] \\\\\n",
      "   GMM & 0.1814 & [0.1692,0.1936] \\\\\n",
      "   KME & 0.1144 &  [0.1009,0.128] \\\\\n",
      "\\bottomrule\n",
      "\\end{tabular}\n",
      "\n"
     ]
    },
    {
     "name": "stderr",
     "output_type": "stream",
     "text": [
      "/tmp/ipykernel_931667/2228313384.py:9: FutureWarning: In future versions `DataFrame.to_latex` is expected to utilise the base implementation of `Styler.to_latex` for formatting and rendering. The arguments signature may therefore change. It is recommended instead to use `DataFrame.style.to_latex` which also contains additional functionality.\n",
      "  print(ks.to_latex(index=False))\n"
     ]
    }
   ],
   "source": [
    "ks = []\n",
    "for m,d in [(m,d['ks']) for m,d in df.loc[df['sample']=='validate'].groupby('method')]:\n",
    "    interval = stats.norm.interval(alpha=0.95,loc=d.mean(),scale=stats.sem(d))\n",
    "    #interval = stats.t.interval(alpha=0.95,df=len(d)-1,loc=d.mean(),scale=stats.sem(d))\n",
    "    interval = '['+\",\".join(map(str,map(lambda x:round(x,4),interval)))+']'\n",
    "    ks.append((m,d.mean().round(4),interval))\n",
    "ks = pd.DataFrame(ks,columns=['Method','Mean','95% CI'])\n",
    "display(ks)\n",
    "print(ks.to_latex(index=False))"
   ]
  },
  {
   "cell_type": "markdown",
   "id": "automated-recording",
   "metadata": {},
   "source": [
    "### CPU Time"
   ]
  },
  {
   "cell_type": "code",
   "execution_count": 86,
   "id": "meaning-viewer",
   "metadata": {
    "ExecuteTime": {
     "end_time": "2022-03-22T23:49:32.543145Z",
     "start_time": "2022-03-22T23:49:32.485185Z"
    }
   },
   "outputs": [
    {
     "data": {
      "text/html": [
       "<div>\n",
       "<style scoped>\n",
       "    .dataframe tbody tr th:only-of-type {\n",
       "        vertical-align: middle;\n",
       "    }\n",
       "\n",
       "    .dataframe tbody tr th {\n",
       "        vertical-align: top;\n",
       "    }\n",
       "\n",
       "    .dataframe thead th {\n",
       "        text-align: right;\n",
       "    }\n",
       "</style>\n",
       "<table border=\"1\" class=\"dataframe\">\n",
       "  <thead>\n",
       "    <tr style=\"text-align: right;\">\n",
       "      <th></th>\n",
       "      <th>Method</th>\n",
       "      <th>Mean</th>\n",
       "      <th>95% CI</th>\n",
       "    </tr>\n",
       "  </thead>\n",
       "  <tbody>\n",
       "    <tr>\n",
       "      <th>0</th>\n",
       "      <td>DCC</td>\n",
       "      <td>1.1319</td>\n",
       "      <td>[0.9224,1.3414]</td>\n",
       "    </tr>\n",
       "    <tr>\n",
       "      <th>1</th>\n",
       "      <td>DEC</td>\n",
       "      <td>4.1383</td>\n",
       "      <td>[3.3257,4.9508]</td>\n",
       "    </tr>\n",
       "    <tr>\n",
       "      <th>2</th>\n",
       "      <td>EQD</td>\n",
       "      <td>1.1066</td>\n",
       "      <td>[0.8968,1.3165]</td>\n",
       "    </tr>\n",
       "    <tr>\n",
       "      <th>3</th>\n",
       "      <td>EQF</td>\n",
       "      <td>1.1469</td>\n",
       "      <td>[0.935,1.3588]</td>\n",
       "    </tr>\n",
       "    <tr>\n",
       "      <th>4</th>\n",
       "      <td>GMM</td>\n",
       "      <td>1.1777</td>\n",
       "      <td>[0.9602,1.3951]</td>\n",
       "    </tr>\n",
       "    <tr>\n",
       "      <th>5</th>\n",
       "      <td>KME</td>\n",
       "      <td>1.1777</td>\n",
       "      <td>[0.9614,1.3939]</td>\n",
       "    </tr>\n",
       "  </tbody>\n",
       "</table>\n",
       "</div>"
      ],
      "text/plain": [
       "  Method    Mean           95% CI\n",
       "0    DCC  1.1319  [0.9224,1.3414]\n",
       "1    DEC  4.1383  [3.3257,4.9508]\n",
       "2    EQD  1.1066  [0.8968,1.3165]\n",
       "3    EQF  1.1469   [0.935,1.3588]\n",
       "4    GMM  1.1777  [0.9602,1.3951]\n",
       "5    KME  1.1777  [0.9614,1.3939]"
      ]
     },
     "metadata": {},
     "output_type": "display_data"
    },
    {
     "name": "stdout",
     "output_type": "stream",
     "text": [
      "\\begin{tabular}{lrl}\n",
      "\\toprule\n",
      "Method &   Mean &          95\\% CI \\\\\n",
      "\\midrule\n",
      "   DCC & 1.1319 & [0.9224,1.3414] \\\\\n",
      "   DEC & 4.1383 & [3.3257,4.9508] \\\\\n",
      "   EQD & 1.1066 & [0.8968,1.3165] \\\\\n",
      "   EQF & 1.1469 &  [0.935,1.3588] \\\\\n",
      "   GMM & 1.1777 & [0.9602,1.3951] \\\\\n",
      "   KME & 1.1777 & [0.9614,1.3939] \\\\\n",
      "\\bottomrule\n",
      "\\end{tabular}\n",
      "\n"
     ]
    },
    {
     "name": "stderr",
     "output_type": "stream",
     "text": [
      "/tmp/ipykernel_931667/3492813642.py:10: FutureWarning: In future versions `DataFrame.to_latex` is expected to utilise the base implementation of `Styler.to_latex` for formatting and rendering. The arguments signature may therefore change. It is recommended instead to use `DataFrame.style.to_latex` which also contains additional functionality.\n",
      "  print(cpu.to_latex(index=False))\n"
     ]
    }
   ],
   "source": [
    "cpu = []\n",
    "for m,d in [(m,d['completion_time']) for m,d in df.loc[df['sample']=='validate'].groupby('method')]:\n",
    "    d/=1000\n",
    "    interval = stats.norm.interval(alpha=0.95,loc=d.mean(),scale=stats.sem(d))\n",
    "    #interval = stats.t.interval(alpha=0.95,df=len(d)-1,loc=d.mean(),scale=stats.sem(d))\n",
    "    interval = '['+\",\".join(map(str,map(lambda x:round(x,4),interval)))+']'\n",
    "    cpu.append((m,d.mean().round(4),interval))\n",
    "cpu = pd.DataFrame(cpu,columns=['Method','Mean','95% CI'])\n",
    "display(cpu)\n",
    "print(cpu.to_latex(index=False))"
   ]
  },
  {
   "cell_type": "markdown",
   "id": "brown-olympus",
   "metadata": {},
   "source": [
    "## Wilcoxon Test"
   ]
  },
  {
   "cell_type": "markdown",
   "id": "thorough-instrumentation",
   "metadata": {},
   "source": [
    "### AUC"
   ]
  },
  {
   "cell_type": "code",
   "execution_count": 87,
   "id": "cloudy-vegetable",
   "metadata": {
    "ExecuteTime": {
     "end_time": "2022-03-22T22:49:49.143439Z",
     "start_time": "2022-03-22T22:49:49.128754Z"
    }
   },
   "outputs": [],
   "source": [
    "aux = df.loc[df['sample']=='validate'].reset_index(drop=True)"
   ]
  },
  {
   "cell_type": "code",
   "execution_count": 91,
   "id": "pursuant-grocery",
   "metadata": {
    "ExecuteTime": {
     "end_time": "2022-03-22T22:50:00.617796Z",
     "start_time": "2022-03-22T22:50:00.585419Z"
    }
   },
   "outputs": [
    {
     "name": "stdout",
     "output_type": "stream",
     "text": [
      "\\begin{tabular}{lrr}\n",
      "\\toprule\n",
      "  Contrast &  Wilcoxon &  p-value \\\\\n",
      "\\midrule\n",
      "DCC vs EQD &   21.6165 &   0.0000 \\\\\n",
      "DCC vs EQF &    2.6339 &   0.0084 \\\\\n",
      "DCC vs GMM &   17.6156 &   0.0000 \\\\\n",
      "DCC vs KME &   19.7597 &   0.0000 \\\\\n",
      "DEC vs EQD &   21.5658 &   0.0000 \\\\\n",
      "DEC vs EQF &    2.4441 &   0.0145 \\\\\n",
      "DEC vs GMM &   17.3016 &   0.0000 \\\\\n",
      "DEC vs KME &   19.5782 &   0.0000 \\\\\n",
      "\\bottomrule\n",
      "\\end{tabular}\n",
      "\n"
     ]
    },
    {
     "name": "stderr",
     "output_type": "stream",
     "text": [
      "/tmp/ipykernel_931667/4255282993.py:8: FutureWarning: In future versions `DataFrame.to_latex` is expected to utilise the base implementation of `Styler.to_latex` for formatting and rendering. The arguments signature may therefore change. It is recommended instead to use `DataFrame.style.to_latex` which also contains additional functionality.\n",
      "  print(pd.DataFrame(l,columns=['Contrast','Wilcoxon','p-value']).round(4).to_latex(index=False))\n"
     ]
    }
   ],
   "source": [
    "l = []\n",
    "for m1,d1 in [(m,d['roc']) for m,d in aux[['roc','method']].groupby('method')][:2]:\n",
    "    for m2,d2 in [(m,d['roc']) for m,d in aux[['roc','method']].groupby('method')][2:]:\n",
    "        res = stats.ranksums(d1,d2)\n",
    "        l.append([f'{m1} vs {m2}',res.statistic,res.pvalue])\n",
    "        \n",
    "\n",
    "print(pd.DataFrame(l,columns=['Contrast','Wilcoxon','p-value']).round(4).to_latex(index=False))"
   ]
  },
  {
   "cell_type": "markdown",
   "id": "resistant-ultimate",
   "metadata": {},
   "source": [
    "### KS"
   ]
  },
  {
   "cell_type": "code",
   "execution_count": 92,
   "id": "unknown-fisher",
   "metadata": {
    "ExecuteTime": {
     "end_time": "2022-03-22T22:50:26.420448Z",
     "start_time": "2022-03-22T22:50:26.369477Z"
    }
   },
   "outputs": [
    {
     "name": "stdout",
     "output_type": "stream",
     "text": [
      "\\begin{tabular}{lrr}\n",
      "\\toprule\n",
      "  Contrast &  Wilcoxon &  p-value \\\\\n",
      "\\midrule\n",
      "DCC vs EQD &   21.0800 &   0.0000 \\\\\n",
      "DCC vs EQF &    2.0482 &   0.0405 \\\\\n",
      "DCC vs GMM &   15.5547 &   0.0000 \\\\\n",
      "DCC vs KME &   18.0641 &   0.0000 \\\\\n",
      "DEC vs EQD &   21.0706 &   0.0000 \\\\\n",
      "DEC vs EQF &    1.7730 &   0.0762 \\\\\n",
      "DEC vs GMM &   15.2842 &   0.0000 \\\\\n",
      "DEC vs KME &   17.9385 &   0.0000 \\\\\n",
      "\\bottomrule\n",
      "\\end{tabular}\n",
      "\n"
     ]
    },
    {
     "name": "stderr",
     "output_type": "stream",
     "text": [
      "/tmp/ipykernel_931667/2036966153.py:7: FutureWarning: In future versions `DataFrame.to_latex` is expected to utilise the base implementation of `Styler.to_latex` for formatting and rendering. The arguments signature may therefore change. It is recommended instead to use `DataFrame.style.to_latex` which also contains additional functionality.\n",
      "  print(pd.DataFrame(l,columns=['Contrast','Wilcoxon','p-value']).round(4).to_latex(index=False))\n"
     ]
    }
   ],
   "source": [
    "l = []\n",
    "for m1,d1 in [(m,d['ks']) for m,d in aux[['ks','method']].groupby('method')][:2]:\n",
    "    for m2,d2 in [(m,d['ks']) for m,d in aux[['ks','method']].groupby('method')][2:]:\n",
    "        res = stats.ranksums(d1,d2)\n",
    "        l.append([f'{m1} vs {m2}',res.statistic,res.pvalue])\n",
    "        \n",
    "print(pd.DataFrame(l,columns=['Contrast','Wilcoxon','p-value']).round(4).to_latex(index=False))"
   ]
  },
  {
   "cell_type": "markdown",
   "id": "promotional-examination",
   "metadata": {},
   "source": [
    "## Winning Method on each dataset"
   ]
  },
  {
   "cell_type": "markdown",
   "id": "liked-foster",
   "metadata": {},
   "source": [
    "### AUC"
   ]
  },
  {
   "cell_type": "code",
   "execution_count": 95,
   "id": "confident-audit",
   "metadata": {
    "ExecuteTime": {
     "end_time": "2022-03-22T23:01:33.787908Z",
     "start_time": "2022-03-22T23:01:33.732685Z"
    },
    "scrolled": true
   },
   "outputs": [
    {
     "name": "stdout",
     "output_type": "stream",
     "text": [
      "\\begin{tabular}{lrrrrrrl}\n",
      "\\toprule\n",
      "method &   DCC &   DEC &   EQD &   EQF &   GMM &   KME & Best Performing Method \\\\\n",
      "dataset             &       &       &       &       &       &       &                        \\\\\n",
      "\\midrule\n",
      "australian          &  0.85 &  0.84 &  0.54 &  0.84 &  0.62 &  0.55 &                    DCC \\\\\n",
      "farmers             &  0.66 &  0.67 &  0.50 &  0.66 &  0.64 &  0.52 &                    DEC \\\\\n",
      "german              &  0.67 &  0.67 &  0.51 &  0.66 &  0.63 &  0.61 &                    DEC \\\\\n",
      "give-me-some-credit &  0.84 &  0.84 &  0.50 &  0.81 &  0.65 &  0.64 &                    DEC \\\\\n",
      "hmeq                &  0.91 &  0.91 &  0.51 &  0.90 &  0.64 &  0.51 &                    DEC \\\\\n",
      "japan               &  0.84 &  0.84 &  0.50 &  0.84 &  0.59 &  0.50 &                    DCC \\\\\n",
      "lending-club        &  0.68 &  0.66 &  0.67 &  0.66 &  0.68 &  0.67 &                    DCC \\\\\n",
      "mexico              &  0.76 &  0.76 &  0.50 &  0.72 &  0.73 &  0.69 &                    DCC \\\\\n",
      "mortgage            &  0.69 &  0.68 &  0.54 &  0.65 &  0.63 &  0.53 &                    DCC \\\\\n",
      "polish              &  0.81 &  0.81 &  0.50 &  0.80 &  0.51 &  0.50 &                    DEC \\\\\n",
      "taiwan              &  0.73 &  0.73 &  0.56 &  0.73 &  0.63 &  0.60 &                    DCC \\\\\n",
      "\\bottomrule\n",
      "\\end{tabular}\n",
      "\n"
     ]
    },
    {
     "name": "stderr",
     "output_type": "stream",
     "text": [
      "/tmp/ipykernel_931667/2541546006.py:5: FutureWarning: In future versions `DataFrame.to_latex` is expected to utilise the base implementation of `Styler.to_latex` for formatting and rendering. The arguments signature may therefore change. It is recommended instead to use `DataFrame.style.to_latex` which also contains additional functionality.\n",
      "  print(ind.round(2).to_latex())\n"
     ]
    }
   ],
   "source": [
    "ind = aux.pivot_table(columns=['method'],index='dataset',aggfunc='mean',values='roc')\n",
    "\n",
    "ind['Best Performing Method'] = ind.idxmax(axis=1)\n",
    "\n",
    "print(ind.round(2).to_latex())"
   ]
  },
  {
   "cell_type": "markdown",
   "id": "accompanied-township",
   "metadata": {},
   "source": [
    "### KS"
   ]
  },
  {
   "cell_type": "code",
   "execution_count": 100,
   "id": "developed-canada",
   "metadata": {
    "ExecuteTime": {
     "end_time": "2022-03-22T23:01:57.164728Z",
     "start_time": "2022-03-22T23:01:57.106067Z"
    }
   },
   "outputs": [
    {
     "data": {
      "text/html": [
       "<div>\n",
       "<style scoped>\n",
       "    .dataframe tbody tr th:only-of-type {\n",
       "        vertical-align: middle;\n",
       "    }\n",
       "\n",
       "    .dataframe tbody tr th {\n",
       "        vertical-align: top;\n",
       "    }\n",
       "\n",
       "    .dataframe thead th {\n",
       "        text-align: right;\n",
       "    }\n",
       "</style>\n",
       "<table border=\"1\" class=\"dataframe\">\n",
       "  <thead>\n",
       "    <tr style=\"text-align: right;\">\n",
       "      <th>method</th>\n",
       "      <th>DCC</th>\n",
       "      <th>DEC</th>\n",
       "      <th>EQD</th>\n",
       "      <th>EQF</th>\n",
       "      <th>GMM</th>\n",
       "      <th>KME</th>\n",
       "      <th>Best Performing Method</th>\n",
       "    </tr>\n",
       "    <tr>\n",
       "      <th>dataset</th>\n",
       "      <th></th>\n",
       "      <th></th>\n",
       "      <th></th>\n",
       "      <th></th>\n",
       "      <th></th>\n",
       "      <th></th>\n",
       "      <th></th>\n",
       "    </tr>\n",
       "  </thead>\n",
       "  <tbody>\n",
       "    <tr>\n",
       "      <th>australian</th>\n",
       "      <td>0.57</td>\n",
       "      <td>0.56</td>\n",
       "      <td>0.06</td>\n",
       "      <td>0.54</td>\n",
       "      <td>0.20</td>\n",
       "      <td>0.09</td>\n",
       "      <td>DCC</td>\n",
       "    </tr>\n",
       "    <tr>\n",
       "      <th>farmers</th>\n",
       "      <td>0.27</td>\n",
       "      <td>0.27</td>\n",
       "      <td>0.00</td>\n",
       "      <td>0.27</td>\n",
       "      <td>0.24</td>\n",
       "      <td>0.04</td>\n",
       "      <td>DCC</td>\n",
       "    </tr>\n",
       "    <tr>\n",
       "      <th>german</th>\n",
       "      <td>0.26</td>\n",
       "      <td>0.26</td>\n",
       "      <td>0.01</td>\n",
       "      <td>0.24</td>\n",
       "      <td>0.21</td>\n",
       "      <td>0.17</td>\n",
       "      <td>DEC</td>\n",
       "    </tr>\n",
       "    <tr>\n",
       "      <th>give-me-some-credit</th>\n",
       "      <td>0.49</td>\n",
       "      <td>0.49</td>\n",
       "      <td>0.00</td>\n",
       "      <td>0.46</td>\n",
       "      <td>0.17</td>\n",
       "      <td>0.25</td>\n",
       "      <td>DEC</td>\n",
       "    </tr>\n",
       "    <tr>\n",
       "      <th>hmeq</th>\n",
       "      <td>0.67</td>\n",
       "      <td>0.67</td>\n",
       "      <td>0.01</td>\n",
       "      <td>0.65</td>\n",
       "      <td>0.20</td>\n",
       "      <td>0.01</td>\n",
       "      <td>DCC</td>\n",
       "    </tr>\n",
       "    <tr>\n",
       "      <th>japan</th>\n",
       "      <td>0.57</td>\n",
       "      <td>0.56</td>\n",
       "      <td>0.00</td>\n",
       "      <td>0.55</td>\n",
       "      <td>0.16</td>\n",
       "      <td>0.00</td>\n",
       "      <td>DCC</td>\n",
       "    </tr>\n",
       "    <tr>\n",
       "      <th>lending-club</th>\n",
       "      <td>0.26</td>\n",
       "      <td>0.24</td>\n",
       "      <td>0.23</td>\n",
       "      <td>0.22</td>\n",
       "      <td>0.26</td>\n",
       "      <td>0.23</td>\n",
       "      <td>DCC</td>\n",
       "    </tr>\n",
       "    <tr>\n",
       "      <th>mexico</th>\n",
       "      <td>0.39</td>\n",
       "      <td>0.39</td>\n",
       "      <td>0.00</td>\n",
       "      <td>0.31</td>\n",
       "      <td>0.35</td>\n",
       "      <td>0.27</td>\n",
       "      <td>DCC</td>\n",
       "    </tr>\n",
       "    <tr>\n",
       "      <th>mortgage</th>\n",
       "      <td>0.05</td>\n",
       "      <td>0.07</td>\n",
       "      <td>0.00</td>\n",
       "      <td>0.05</td>\n",
       "      <td>0.01</td>\n",
       "      <td>0.00</td>\n",
       "      <td>DEC</td>\n",
       "    </tr>\n",
       "    <tr>\n",
       "      <th>polish</th>\n",
       "      <td>0.39</td>\n",
       "      <td>0.40</td>\n",
       "      <td>0.00</td>\n",
       "      <td>0.39</td>\n",
       "      <td>0.00</td>\n",
       "      <td>0.00</td>\n",
       "      <td>DEC</td>\n",
       "    </tr>\n",
       "    <tr>\n",
       "      <th>taiwan</th>\n",
       "      <td>0.36</td>\n",
       "      <td>0.35</td>\n",
       "      <td>0.10</td>\n",
       "      <td>0.35</td>\n",
       "      <td>0.20</td>\n",
       "      <td>0.19</td>\n",
       "      <td>DCC</td>\n",
       "    </tr>\n",
       "  </tbody>\n",
       "</table>\n",
       "</div>"
      ],
      "text/plain": [
       "method                DCC   DEC   EQD   EQF   GMM   KME Best Performing Method\n",
       "dataset                                                                       \n",
       "australian           0.57  0.56  0.06  0.54  0.20  0.09                    DCC\n",
       "farmers              0.27  0.27  0.00  0.27  0.24  0.04                    DCC\n",
       "german               0.26  0.26  0.01  0.24  0.21  0.17                    DEC\n",
       "give-me-some-credit  0.49  0.49  0.00  0.46  0.17  0.25                    DEC\n",
       "hmeq                 0.67  0.67  0.01  0.65  0.20  0.01                    DCC\n",
       "japan                0.57  0.56  0.00  0.55  0.16  0.00                    DCC\n",
       "lending-club         0.26  0.24  0.23  0.22  0.26  0.23                    DCC\n",
       "mexico               0.39  0.39  0.00  0.31  0.35  0.27                    DCC\n",
       "mortgage             0.05  0.07  0.00  0.05  0.01  0.00                    DEC\n",
       "polish               0.39  0.40  0.00  0.39  0.00  0.00                    DEC\n",
       "taiwan               0.36  0.35  0.10  0.35  0.20  0.19                    DCC"
      ]
     },
     "metadata": {},
     "output_type": "display_data"
    },
    {
     "name": "stdout",
     "output_type": "stream",
     "text": [
      "\\begin{tabular}{lrrrrrrl}\n",
      "\\toprule\n",
      "method &   DCC &   DEC &   EQD &   EQF &   GMM &   KME & Best Performing Method \\\\\n",
      "dataset             &       &       &       &       &       &       &                        \\\\\n",
      "\\midrule\n",
      "australian          &  0.57 &  0.56 &  0.06 &  0.54 &  0.20 &  0.09 &                    DCC \\\\\n",
      "farmers             &  0.27 &  0.27 &  0.00 &  0.27 &  0.24 &  0.04 &                    DCC \\\\\n",
      "german              &  0.26 &  0.26 &  0.01 &  0.24 &  0.21 &  0.17 &                    DEC \\\\\n",
      "give-me-some-credit &  0.49 &  0.49 &  0.00 &  0.46 &  0.17 &  0.25 &                    DEC \\\\\n",
      "hmeq                &  0.67 &  0.67 &  0.01 &  0.65 &  0.20 &  0.01 &                    DCC \\\\\n",
      "japan               &  0.57 &  0.56 &  0.00 &  0.55 &  0.16 &  0.00 &                    DCC \\\\\n",
      "lending-club        &  0.26 &  0.24 &  0.23 &  0.22 &  0.26 &  0.23 &                    DCC \\\\\n",
      "mexico              &  0.39 &  0.39 &  0.00 &  0.31 &  0.35 &  0.27 &                    DCC \\\\\n",
      "mortgage            &  0.05 &  0.07 &  0.00 &  0.05 &  0.01 &  0.00 &                    DEC \\\\\n",
      "polish              &  0.39 &  0.40 &  0.00 &  0.39 &  0.00 &  0.00 &                    DEC \\\\\n",
      "taiwan              &  0.36 &  0.35 &  0.10 &  0.35 &  0.20 &  0.19 &                    DCC \\\\\n",
      "\\bottomrule\n",
      "\\end{tabular}\n",
      "\n"
     ]
    },
    {
     "name": "stderr",
     "output_type": "stream",
     "text": [
      "/tmp/ipykernel_931667/214429515.py:5: FutureWarning: In future versions `DataFrame.to_latex` is expected to utilise the base implementation of `Styler.to_latex` for formatting and rendering. The arguments signature may therefore change. It is recommended instead to use `DataFrame.style.to_latex` which also contains additional functionality.\n",
      "  print(ind.round(2).to_latex())\n"
     ]
    }
   ],
   "source": [
    "ind = aux.pivot_table(columns=['method'],index='dataset',aggfunc='mean',values='ks')\n",
    "\n",
    "ind['Best Performing Method'] = ind.idxmax(axis=1)\n",
    "display(ind.round(2))\n",
    "print(ind.round(2).to_latex())"
   ]
  },
  {
   "cell_type": "code",
   "execution_count": null,
   "id": "e48546e3",
   "metadata": {},
   "outputs": [],
   "source": []
  }
 ],
 "metadata": {
  "kernelspec": {
   "display_name": "Python 3.8.10 ('ins')",
   "language": "python",
   "name": "python3"
  },
  "language_info": {
   "codemirror_mode": {
    "name": "ipython",
    "version": 3
   },
   "file_extension": ".py",
   "mimetype": "text/x-python",
   "name": "python",
   "nbconvert_exporter": "python",
   "pygments_lexer": "ipython3",
   "version": "3.8.10"
  },
  "toc": {
   "base_numbering": 1,
   "nav_menu": {},
   "number_sections": true,
   "sideBar": true,
   "skip_h1_title": false,
   "title_cell": "Table of Contents",
   "title_sidebar": "Contents",
   "toc_cell": false,
   "toc_position": {},
   "toc_section_display": true,
   "toc_window_display": true
  },
  "vscode": {
   "interpreter": {
    "hash": "7e11c88f35c2c5fde0a38a51094f5e2fce5b626769864a25001c06b80821448c"
   }
  }
 },
 "nbformat": 4,
 "nbformat_minor": 5
}
