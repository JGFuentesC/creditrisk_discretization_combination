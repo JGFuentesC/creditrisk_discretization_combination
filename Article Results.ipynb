{
 "cells": [
  {
   "cell_type": "markdown",
   "id": "accompanied-arbitration",
   "metadata": {},
   "source": [
    "## Dependencies"
   ]
  },
  {
   "cell_type": "code",
   "execution_count": 2,
   "id": "continent-sphere",
   "metadata": {
    "ExecuteTime": {
     "end_time": "2022-03-23T00:03:46.198854Z",
     "start_time": "2022-03-23T00:03:45.634078Z"
    }
   },
   "outputs": [],
   "source": [
    "import os\n",
    "import numpy as np\n",
    "import pandas as pd\n",
    "from datetime import datetime\n",
    "from dateutil.relativedelta import relativedelta as rd\n",
    "from scipy.stats import ranksums"
   ]
  },
  {
   "cell_type": "code",
   "execution_count": 38,
   "id": "increased-natural",
   "metadata": {
    "ExecuteTime": {
     "end_time": "2022-03-22T22:38:34.275714Z",
     "start_time": "2022-03-22T22:38:33.576238Z"
    }
   },
   "outputs": [],
   "source": [
    "df = pd.read_excel('resultados.xlsx')\n",
    "\n",
    "df['label'] = df['label'].map(lambda x:x.replace('give_me_some_credit','give-me-some-credit'))\n",
    "df['label'] = df['label'].map(lambda x:x.replace('lendinc_club','lending-club'))\n",
    "\n",
    "df[['method','dataset','sample']] = df['label'].map(lambda x:x.split('_')).apply(pd.Series).dropna()"
   ]
  },
  {
   "cell_type": "markdown",
   "id": "stone-private",
   "metadata": {},
   "source": [
    "## Overall Performance"
   ]
  },
  {
   "cell_type": "markdown",
   "id": "known-jenny",
   "metadata": {},
   "source": [
    "### AUC"
   ]
  },
  {
   "cell_type": "code",
   "execution_count": 39,
   "id": "alone-bidder",
   "metadata": {
    "ExecuteTime": {
     "end_time": "2022-03-22T22:38:35.012239Z",
     "start_time": "2022-03-22T22:38:34.951199Z"
    }
   },
   "outputs": [
    {
     "name": "stdout",
     "output_type": "stream",
     "text": [
      "\\begin{tabular}{lrrrr}\n",
      "\\toprule\n",
      "Method &  Minimum &     Mean &  Máximum &  Std. Dev. \\\\\n",
      "\\midrule\n",
      "   dcc & 0.587827 & 0.769409 & 0.917901 &   0.082920 \\\\\n",
      "   dec & 0.607170 & 0.768938 & 0.923817 &   0.084425 \\\\\n",
      "   gau & 0.500000 & 0.634785 & 0.763336 &   0.065052 \\\\\n",
      "   kme & 0.448506 & 0.575113 & 0.753337 &   0.074439 \\\\\n",
      "   qua & 0.588716 & 0.754714 & 0.919462 &   0.086572 \\\\\n",
      "   uni & 0.493665 & 0.529869 & 0.694079 &   0.054815 \\\\\n",
      "\\bottomrule\n",
      "\\end{tabular}\n",
      "\n"
     ]
    },
    {
     "name": "stderr",
     "output_type": "stream",
     "text": [
      "/tmp/ipykernel_259810/3847197044.py:4: FutureWarning: In future versions `DataFrame.to_latex` is expected to utilise the base implementation of `Styler.to_latex` for formatting and rendering. The arguments signature may therefore change. It is recommended instead to use `DataFrame.style.to_latex` which also contains additional functionality.\n",
      "  print(auc.to_latex(index=False))\n"
     ]
    }
   ],
   "source": [
    "auc = df.loc[df['sample']=='validate'].pivot_table(index='method',values='roc',aggfunc=['min','mean','max','std'])\n",
    "auc.reset_index(inplace=True)\n",
    "auc.columns = ['Method','Minimum','Mean','Máximum','Std. Dev.']\n",
    "print(auc.to_latex(index=False))"
   ]
  },
  {
   "cell_type": "markdown",
   "id": "scenic-courage",
   "metadata": {},
   "source": [
    "### KS"
   ]
  },
  {
   "cell_type": "code",
   "execution_count": 40,
   "id": "genetic-stuart",
   "metadata": {
    "ExecuteTime": {
     "end_time": "2022-03-22T22:38:44.407211Z",
     "start_time": "2022-03-22T22:38:44.351165Z"
    }
   },
   "outputs": [
    {
     "name": "stdout",
     "output_type": "stream",
     "text": [
      "\\begin{tabular}{lrrrr}\n",
      "\\toprule\n",
      "Method &  Minimum &     Mean &  Máximum &  Std. Dev. \\\\\n",
      "\\midrule\n",
      "   dcc & 0.008236 & 0.389404 & 0.706700 &   0.174004 \\\\\n",
      "   dec & 0.003397 & 0.387594 & 0.705212 &   0.171343 \\\\\n",
      "   gau & 0.000000 & 0.182928 & 0.381886 &   0.109808 \\\\\n",
      "   kme & 0.000000 & 0.118286 & 0.462393 &   0.123398 \\\\\n",
      "   qua & 0.002725 & 0.364638 & 0.679718 &   0.169512 \\\\\n",
      "   uni & 0.000000 & 0.038043 & 0.295606 &   0.078135 \\\\\n",
      "\\bottomrule\n",
      "\\end{tabular}\n",
      "\n"
     ]
    },
    {
     "name": "stderr",
     "output_type": "stream",
     "text": [
      "/tmp/ipykernel_259810/4010777735.py:4: FutureWarning: In future versions `DataFrame.to_latex` is expected to utilise the base implementation of `Styler.to_latex` for formatting and rendering. The arguments signature may therefore change. It is recommended instead to use `DataFrame.style.to_latex` which also contains additional functionality.\n",
      "  print(ks.to_latex(index=False))\n"
     ]
    }
   ],
   "source": [
    "ks = df.loc[df['sample']=='validate'].pivot_table(index='method',values='ks',aggfunc=['min','mean','max','std'])\n",
    "ks.reset_index(inplace=True)\n",
    "ks.columns = ['Method','Minimum','Mean','Máximum','Std. Dev.']\n",
    "print(ks.to_latex(index=False))"
   ]
  },
  {
   "cell_type": "markdown",
   "id": "automated-recording",
   "metadata": {},
   "source": [
    "### CPU Time"
   ]
  },
  {
   "cell_type": "code",
   "execution_count": 58,
   "id": "meaning-viewer",
   "metadata": {
    "ExecuteTime": {
     "end_time": "2022-03-22T23:49:32.543145Z",
     "start_time": "2022-03-22T23:49:32.485185Z"
    }
   },
   "outputs": [
    {
     "name": "stdout",
     "output_type": "stream",
     "text": [
      "\\begin{tabular}{lrrrr}\n",
      "\\toprule\n",
      "Method &  Minimum &   Mean &  Máximum &  Std. Dev. \\\\\n",
      "\\midrule\n",
      "   dcc &   0.0669 & 1.1309 &   6.3363 &     1.9117 \\\\\n",
      "   dec &   0.1519 & 4.1158 &  23.6292 &     7.4300 \\\\\n",
      "   gau &   0.0703 & 1.1783 &   6.3997 &     1.9848 \\\\\n",
      "   kme &   0.0695 & 1.1852 &   6.4033 &     1.9869 \\\\\n",
      "   qua &   0.0675 & 1.1519 &   6.2736 &     1.9435 \\\\\n",
      "   uni &   0.0660 & 1.1114 &   6.3558 &     1.9364 \\\\\n",
      "\\bottomrule\n",
      "\\end{tabular}\n",
      "\n"
     ]
    },
    {
     "name": "stderr",
     "output_type": "stream",
     "text": [
      "/tmp/ipykernel_259810/4016519230.py:6: FutureWarning: In future versions `DataFrame.to_latex` is expected to utilise the base implementation of `Styler.to_latex` for formatting and rendering. The arguments signature may therefore change. It is recommended instead to use `DataFrame.style.to_latex` which also contains additional functionality.\n",
      "  print(cpu.to_latex(index=False))\n"
     ]
    }
   ],
   "source": [
    "cpu = df.loc[df['sample']=='validate'].pivot_table(index='method',\n",
    "                                                   values='completion_time',\n",
    "                                                   aggfunc=['min','mean','max','std']).apply(lambda x:x/1000).round(4)\n",
    "cpu.reset_index(inplace=True)\n",
    "cpu.columns = ['Method','Minimum','Mean','Máximum','Std. Dev.']\n",
    "print(cpu.to_latex(index=False))"
   ]
  },
  {
   "cell_type": "markdown",
   "id": "brown-olympus",
   "metadata": {},
   "source": [
    "## Wilcoxon Test"
   ]
  },
  {
   "cell_type": "markdown",
   "id": "thorough-instrumentation",
   "metadata": {},
   "source": [
    "### AUC"
   ]
  },
  {
   "cell_type": "code",
   "execution_count": 48,
   "id": "cloudy-vegetable",
   "metadata": {
    "ExecuteTime": {
     "end_time": "2022-03-22T22:49:49.143439Z",
     "start_time": "2022-03-22T22:49:49.128754Z"
    }
   },
   "outputs": [],
   "source": [
    "aux = df.loc[df['sample']=='validate'].reset_index(drop=True)"
   ]
  },
  {
   "cell_type": "code",
   "execution_count": 50,
   "id": "pursuant-grocery",
   "metadata": {
    "ExecuteTime": {
     "end_time": "2022-03-22T22:50:00.617796Z",
     "start_time": "2022-03-22T22:50:00.585419Z"
    }
   },
   "outputs": [
    {
     "name": "stdout",
     "output_type": "stream",
     "text": [
      "\\begin{tabular}{lrr}\n",
      "\\toprule\n",
      "  Contrast &  Wilcoxon &  p-value \\\\\n",
      "\\midrule\n",
      "dcc vs gau & 14.512486 & 0.000000 \\\\\n",
      "dcc vs kme & 16.554207 & 0.000000 \\\\\n",
      "dcc vs qua &  2.046219 & 0.040735 \\\\\n",
      "dcc vs uni & 17.636926 & 0.000000 \\\\\n",
      "dec vs gau & 14.352028 & 0.000000 \\\\\n",
      "dec vs kme & 16.472478 & 0.000000 \\\\\n",
      "dec vs qua &  1.927000 & 0.053980 \\\\\n",
      "dec vs uni & 17.593437 & 0.000000 \\\\\n",
      "\\bottomrule\n",
      "\\end{tabular}\n",
      "\n"
     ]
    },
    {
     "name": "stderr",
     "output_type": "stream",
     "text": [
      "/tmp/ipykernel_259810/4123526569.py:8: FutureWarning: In future versions `DataFrame.to_latex` is expected to utilise the base implementation of `Styler.to_latex` for formatting and rendering. The arguments signature may therefore change. It is recommended instead to use `DataFrame.style.to_latex` which also contains additional functionality.\n",
      "  print(pd.DataFrame(l,columns=['Contrast','Wilcoxon','p-value']).round(6).to_latex(index=False))\n"
     ]
    }
   ],
   "source": [
    "l = []\n",
    "for m1,d1 in [(m,d['roc']) for m,d in aux[['roc','method']].groupby('method')][:2]:\n",
    "    for m2,d2 in [(m,d['roc']) for m,d in aux[['roc','method']].groupby('method')][2:]:\n",
    "        res = ranksums(d1,d2)\n",
    "        l.append([f'{m1} vs {m2}',res.statistic,res.pvalue])\n",
    "        \n",
    "\n",
    "print(pd.DataFrame(l,columns=['Contrast','Wilcoxon','p-value']).round(6).to_latex(index=False))"
   ]
  },
  {
   "cell_type": "markdown",
   "id": "resistant-ultimate",
   "metadata": {},
   "source": [
    "### KS"
   ]
  },
  {
   "cell_type": "code",
   "execution_count": 51,
   "id": "unknown-fisher",
   "metadata": {
    "ExecuteTime": {
     "end_time": "2022-03-22T22:50:26.420448Z",
     "start_time": "2022-03-22T22:50:26.369477Z"
    }
   },
   "outputs": [
    {
     "name": "stdout",
     "output_type": "stream",
     "text": [
      "\\begin{tabular}{lrr}\n",
      "\\toprule\n",
      "  Contrast &  Wilcoxon &  p-value \\\\\n",
      "\\midrule\n",
      "dcc vs gau & 12.912401 & 0.000000 \\\\\n",
      "dcc vs kme & 14.747175 & 0.000000 \\\\\n",
      "dcc vs qua &  1.729052 & 0.083800 \\\\\n",
      "dcc vs uni & 17.184043 & 0.000000 \\\\\n",
      "dec vs gau & 12.691958 & 0.000000 \\\\\n",
      "dec vs kme & 14.601338 & 0.000000 \\\\\n",
      "dec vs qua &  1.471493 & 0.141158 \\\\\n",
      "dec vs uni & 17.157050 & 0.000000 \\\\\n",
      "\\bottomrule\n",
      "\\end{tabular}\n",
      "\n"
     ]
    },
    {
     "name": "stderr",
     "output_type": "stream",
     "text": [
      "/tmp/ipykernel_259810/188347429.py:8: FutureWarning: In future versions `DataFrame.to_latex` is expected to utilise the base implementation of `Styler.to_latex` for formatting and rendering. The arguments signature may therefore change. It is recommended instead to use `DataFrame.style.to_latex` which also contains additional functionality.\n",
      "  print(pd.DataFrame(l,columns=['Contrast','Wilcoxon','p-value']).round(6).to_latex(index=False))\n"
     ]
    }
   ],
   "source": [
    "l = []\n",
    "for m1,d1 in [(m,d['ks']) for m,d in aux[['ks','method']].groupby('method')][:2]:\n",
    "    for m2,d2 in [(m,d['ks']) for m,d in aux[['ks','method']].groupby('method')][2:]:\n",
    "        res = ranksums(d1,d2)\n",
    "        l.append([f'{m1} vs {m2}',res.statistic,res.pvalue])\n",
    "        \n",
    "\n",
    "print(pd.DataFrame(l,columns=['Contrast','Wilcoxon','p-value']).round(6).to_latex(index=False))"
   ]
  },
  {
   "cell_type": "markdown",
   "id": "promotional-examination",
   "metadata": {},
   "source": [
    "## Winning Method on each dataset"
   ]
  },
  {
   "cell_type": "markdown",
   "id": "liked-foster",
   "metadata": {},
   "source": [
    "### AUC"
   ]
  },
  {
   "cell_type": "code",
   "execution_count": 52,
   "id": "confident-audit",
   "metadata": {
    "ExecuteTime": {
     "end_time": "2022-03-22T23:01:33.787908Z",
     "start_time": "2022-03-22T23:01:33.732685Z"
    },
    "scrolled": true
   },
   "outputs": [
    {
     "name": "stdout",
     "output_type": "stream",
     "text": [
      "\\begin{tabular}{lrrrrrrl}\n",
      "\\toprule\n",
      "method &     dcc &     dec &     gau &     kme &     qua &     uni & winner \\\\\n",
      "dataset             &         &         &         &         &         &         &        \\\\\n",
      "\\midrule\n",
      "australian          &  0.8484 &  0.8442 &  0.6145 &  0.5478 &  0.8365 &  0.5326 &    dcc \\\\\n",
      "farmers             &  0.6600 &  0.6686 &  0.6436 &  0.5220 &  0.6601 &  0.5000 &    dec \\\\\n",
      "german              &  0.6732 &  0.6776 &  0.6389 &  0.6103 &  0.6634 &  0.5074 &    dec \\\\\n",
      "give-me-some-credit &  0.8351 &  0.8395 &  0.6633 &  0.6549 &  0.8058 &  0.5000 &    dec \\\\\n",
      "hmeq                &  0.9059 &  0.9103 &  0.6389 &  0.5080 &  0.9024 &  0.5073 &    dec \\\\\n",
      "japan               &  0.8441 &  0.8423 &  0.5867 &  0.5000 &  0.8369 &  0.5000 &    dcc \\\\\n",
      "lending-club        &  0.6857 &  0.6681 &  0.6719 &  0.6738 &  0.6600 &  0.6725 &    dcc \\\\\n",
      "mexico              &  0.7629 &  0.7616 &  0.7313 &  0.6681 &  0.7112 &  0.5000 &    dcc \\\\\n",
      "mortgage            &  0.7070 &  0.6966 &  0.6460 &  0.5299 &  0.6771 &  0.5415 &    dcc \\\\\n",
      "polish              &  0.8070 &  0.8179 &  0.5165 &  0.5039 &  0.8170 &  0.5000 &    dec \\\\\n",
      "taiwan              &  0.7342 &  0.7317 &  0.6311 &  0.6076 &  0.7315 &  0.5673 &    dcc \\\\\n",
      "\\bottomrule\n",
      "\\end{tabular}\n",
      "\n"
     ]
    },
    {
     "name": "stderr",
     "output_type": "stream",
     "text": [
      "/tmp/ipykernel_259810/3278392360.py:5: FutureWarning: In future versions `DataFrame.to_latex` is expected to utilise the base implementation of `Styler.to_latex` for formatting and rendering. The arguments signature may therefore change. It is recommended instead to use `DataFrame.style.to_latex` which also contains additional functionality.\n",
      "  print(ind.round(4).to_latex())\n"
     ]
    }
   ],
   "source": [
    "ind = aux.pivot_table(columns=['method'],index='dataset',aggfunc='mean',values='roc')\n",
    "\n",
    "ind['winner'] = ind.idxmax(axis=1)\n",
    "\n",
    "print(ind.round(4).to_latex())"
   ]
  },
  {
   "cell_type": "markdown",
   "id": "accompanied-township",
   "metadata": {},
   "source": [
    "### KS"
   ]
  },
  {
   "cell_type": "code",
   "execution_count": 53,
   "id": "developed-canada",
   "metadata": {
    "ExecuteTime": {
     "end_time": "2022-03-22T23:01:57.164728Z",
     "start_time": "2022-03-22T23:01:57.106067Z"
    }
   },
   "outputs": [
    {
     "name": "stdout",
     "output_type": "stream",
     "text": [
      "\\begin{tabular}{lrrrrrrl}\n",
      "\\toprule\n",
      "method &     dcc &     dec &     gau &     kme &     qua &     uni & winner \\\\\n",
      "dataset             &         &         &         &         &         &         &        \\\\\n",
      "\\midrule\n",
      "australian          &  0.5682 &  0.5598 &  0.1804 &  0.0908 &  0.5471 &  0.0632 &    dcc \\\\\n",
      "farmers             &  0.2672 &  0.2636 &  0.2538 &  0.0415 &  0.2669 &  0.0000 &    dcc \\\\\n",
      "german              &  0.2638 &  0.2650 &  0.2244 &  0.1743 &  0.2454 &  0.0116 &    dec \\\\\n",
      "give-me-some-credit &  0.4874 &  0.4950 &  0.1834 &  0.2962 &  0.4494 &  0.0000 &    dec \\\\\n",
      "hmeq                &  0.6730 &  0.6710 &  0.1980 &  0.0108 &  0.6425 &  0.0100 &    dcc \\\\\n",
      "japan               &  0.5670 &  0.5580 &  0.1514 &  0.0000 &  0.5420 &  0.0000 &    dcc \\\\\n",
      "lending-club        &  0.2638 &  0.2443 &  0.2428 &  0.2429 &  0.2313 &  0.2391 &    dcc \\\\\n",
      "mexico              &  0.3972 &  0.3915 &  0.3450 &  0.2495 &  0.3019 &  0.0000 &    dcc \\\\\n",
      "mortgage            &  0.0533 &  0.0663 &  0.0131 &  0.0000 &  0.0461 &  0.0000 &    dec \\\\\n",
      "polish              &  0.3912 &  0.3957 &  0.0108 &  0.0000 &  0.3841 &  0.0000 &    dec \\\\\n",
      "taiwan              &  0.3514 &  0.3533 &  0.2091 &  0.1952 &  0.3543 &  0.0945 &    qua \\\\\n",
      "\\bottomrule\n",
      "\\end{tabular}\n",
      "\n"
     ]
    },
    {
     "name": "stderr",
     "output_type": "stream",
     "text": [
      "/tmp/ipykernel_259810/281695400.py:5: FutureWarning: In future versions `DataFrame.to_latex` is expected to utilise the base implementation of `Styler.to_latex` for formatting and rendering. The arguments signature may therefore change. It is recommended instead to use `DataFrame.style.to_latex` which also contains additional functionality.\n",
      "  print(ind.round(4).to_latex())\n"
     ]
    }
   ],
   "source": [
    "ind = aux.pivot_table(columns=['method'],index='dataset',aggfunc='mean',values='ks')\n",
    "\n",
    "ind['winner'] = ind.idxmax(axis=1)\n",
    "\n",
    "print(ind.round(4).to_latex())"
   ]
  }
 ],
 "metadata": {
  "kernelspec": {
   "display_name": "phd",
   "language": "python",
   "name": "phd"
  },
  "language_info": {
   "codemirror_mode": {
    "name": "ipython",
    "version": 3
   },
   "file_extension": ".py",
   "mimetype": "text/x-python",
   "name": "python",
   "nbconvert_exporter": "python",
   "pygments_lexer": "ipython3",
   "version": "3.9.1"
  },
  "toc": {
   "base_numbering": 1,
   "nav_menu": {},
   "number_sections": true,
   "sideBar": true,
   "skip_h1_title": false,
   "title_cell": "Table of Contents",
   "title_sidebar": "Contents",
   "toc_cell": false,
   "toc_position": {},
   "toc_section_display": true,
   "toc_window_display": true
  }
 },
 "nbformat": 4,
 "nbformat_minor": 5
}
