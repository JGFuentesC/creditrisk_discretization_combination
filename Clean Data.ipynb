{
 "cells": [
  {
   "cell_type": "markdown",
   "id": "celtic-mentor",
   "metadata": {},
   "source": [
    "## Dependencies"
   ]
  },
  {
   "cell_type": "code",
   "execution_count": 1,
   "id": "transsexual-series",
   "metadata": {
    "ExecuteTime": {
     "end_time": "2022-03-22T00:08:34.196457Z",
     "start_time": "2022-03-22T00:08:34.192703Z"
    }
   },
   "outputs": [],
   "source": [
    "from datetime import datetime\n",
    "from dateutil.relativedelta import relativedelta as rd\n",
    "import os\n",
    "import numpy as np\n",
    "\n",
    "from RawDataCleansing import clean_german\n",
    "from RawDataCleansing import clean_australian\n",
    "from RawDataCleansing import clean_japan\n",
    "from RawDataCleansing import clean_polish\n",
    "from RawDataCleansing import clean_mexico\n",
    "from RawDataCleansing import clean_mortgage\n",
    "from RawDataCleansing import clean_lending_club\n",
    "from RawDataCleansing import clean_give_me_some_credit\n",
    "from RawDataCleansing import clean_taiwan\n",
    "from RawDataCleansing import clean_hmeq\n",
    "from RawDataCleansing import clean_farmers\n",
    "\n"
   ]
  },
  {
   "cell_type": "markdown",
   "id": "official-sleep",
   "metadata": {},
   "source": [
    "## Cleaning Data"
   ]
  },
  {
   "cell_type": "code",
   "execution_count": 5,
   "id": "pleased-speaker",
   "metadata": {
    "ExecuteTime": {
     "end_time": "2022-03-22T00:11:57.577942Z",
     "start_time": "2022-03-22T00:11:30.948073Z"
    }
   },
   "outputs": [
    {
     "name": "stdout",
     "output_type": "stream",
     "text": [
      "Cleansing German Credit Data...\n",
      "Cleansing Australian Credit Data...\n",
      "Cleansing Japanese Credit Data...\n",
      "Cleansing Polish Bankruptcy Data...\n",
      "Cleansing Mexican Credit Data...\n",
      "Cleansing Mortgage Data...\n",
      "Cleansing Lending Club Data...\n",
      "Cleansing Give Me Some Credit Data...\n",
      "Cleansing Taiwan CreditCard Data...\n",
      "Cleansing HMEQ Data...\n",
      "Cleansing Farmers Data...\n",
      "(5000, 14)\n",
      "Process finished in  relativedelta(seconds=+35, microseconds=+935099)\n"
     ]
    }
   ],
   "source": [
    "start = datetime.now()\n",
    "\n",
    "#Verifies if the path clean exists, if not, path is created\n",
    "if not os.path.exists('./data/clean'):\n",
    "    os.mkdir('./data/clean')\n",
    "\n",
    "#RandomState object for reproducible results\n",
    "rs = np.random.RandomState(seed=27182818)\n",
    "\n",
    "#Cleaning all data for experimentation\n",
    "print(\"Cleansing German Credit Data...\")\n",
    "clean_german('german.csv')\n",
    "\n",
    "print(\"Cleansing Australian Credit Data...\")\n",
    "clean_australian('australian.dat')\n",
    "\n",
    "print(\"Cleansing Japanese Credit Data...\")\n",
    "clean_japan('japan.data')\n",
    "\n",
    "print(\"Cleansing Polish Bankruptcy Data...\")\n",
    "clean_polish(rs)\n",
    "\n",
    "print(\"Cleansing Mexican Credit Data...\")\n",
    "clean_mexico('mexican_credit.sas7bdat', rs)\n",
    "\n",
    "print(\"Cleansing Mortgage Data...\")\n",
    "clean_mortgage('mortgage.csv', rs)\n",
    "\n",
    "print(\"Cleansing Lending Club Data...\")\n",
    "clean_lending_club('acc.csv', rs)\n",
    "\n",
    "print(\"Cleansing Give Me Some Credit Data...\")\n",
    "clean_give_me_some_credit('give_me_some_credit.csv', rs)\n",
    "\n",
    "print(\"Cleansing Taiwan CreditCard Data...\")\n",
    "clean_taiwan('taiwan.csv', rs)\n",
    "\n",
    "print(\"Cleansing HMEQ Data...\")\n",
    "clean_hmeq('hmeq.csv')\n",
    "\n",
    "print(\"Cleansing Farmers Data...\")\n",
    "clean_farmers('farmers_salary_transactions.csv', rs)\n",
    "\n",
    "print(\"Process finished in \", rd(datetime.now(), start))"
   ]
  },
  {
   "cell_type": "code",
   "execution_count": null,
   "id": "polish-samoa",
   "metadata": {},
   "outputs": [],
   "source": []
  }
 ],
 "metadata": {
  "kernelspec": {
   "display_name": "Python 3.8.10 ('ins')",
   "language": "python",
   "name": "python3"
  },
  "language_info": {
   "codemirror_mode": {
    "name": "ipython",
    "version": 3
   },
   "file_extension": ".py",
   "mimetype": "text/x-python",
   "name": "python",
   "nbconvert_exporter": "python",
   "pygments_lexer": "ipython3",
   "version": "3.8.10"
  },
  "toc": {
   "base_numbering": 1,
   "nav_menu": {},
   "number_sections": true,
   "sideBar": true,
   "skip_h1_title": false,
   "title_cell": "Table of Contents",
   "title_sidebar": "Contents",
   "toc_cell": false,
   "toc_position": {},
   "toc_section_display": true,
   "toc_window_display": false
  },
  "vscode": {
   "interpreter": {
    "hash": "7e11c88f35c2c5fde0a38a51094f5e2fce5b626769864a25001c06b80821448c"
   }
  }
 },
 "nbformat": 4,
 "nbformat_minor": 5
}
